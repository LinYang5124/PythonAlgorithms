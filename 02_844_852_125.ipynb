{
 "cells": [
  {
   "cell_type": "markdown",
   "id": "67aa6568",
   "metadata": {},
   "source": [
    "844.Backspace String Compare\n",
    "\n",
    "Given two strings s and t, return true if they are equal when both are typed into empty text editors. '#' means a backspace character.\n",
    "\n",
    "Note that after backspacing an empty text, the text will continue empty.\n",
    "\n",
    " \n",
    "\n",
    "Example 1:\n",
    "\n",
    "Input: s = \"ab#c\", t = \"ad#c\"\n",
    "Output: true\n",
    "Explanation: Both s and t become \"ac\".\n",
    "\n",
    "\n",
    "Example 2:\n",
    "\n",
    "Input: s = \"ab##\", t = \"c#d#\"\n",
    "Output: true\n",
    "Explanation: Both s and t become \"\".\n",
    "\n",
    "\n",
    "Example 3:\n",
    "\n",
    "Input: s = \"a#c\", t = \"b\"\n",
    "Output: false\n",
    "Explanation: s becomes \"c\" while t becomes \"b\".\n",
    " \n",
    "\n",
    "Constraints:\n",
    "\n",
    "1 <= s.length, t.length <= 200\n",
    "s and t only contain lowercase letters and '#' characters.\n",
    " \n",
    "\n",
    "Follow up: Can you solve it in O(n) time and O(1) space?"
   ]
  },
  {
   "cell_type": "code",
   "execution_count": 9,
   "id": "97c15dc7",
   "metadata": {},
   "outputs": [],
   "source": [
    "def backspaceCompare(s, t):\n",
    "    \"\"\"\n",
    "    :type s: str\n",
    "    :type t: str\n",
    "    :rtype: bool\n",
    "    \"\"\"\n",
    "    \n",
    "    def check(mystr):\n",
    "        stack = []\n",
    "        for e in mystr:\n",
    "            if e == '#':\n",
    "                if len(stack)>0:stack.pop()\n",
    "            else:\n",
    "                stack.append(e)\n",
    "        return stack\n",
    "    return check(s) == check(t)  "
   ]
  },
  {
   "cell_type": "code",
   "execution_count": 10,
   "id": "652e24c7",
   "metadata": {},
   "outputs": [
    {
     "data": {
      "text/plain": [
       "True"
      ]
     },
     "execution_count": 10,
     "metadata": {},
     "output_type": "execute_result"
    }
   ],
   "source": [
    "backspaceCompare(\"ab#c\",\"ad#c\")"
   ]
  },
  {
   "cell_type": "code",
   "execution_count": 11,
   "id": "21b29dab",
   "metadata": {},
   "outputs": [
    {
     "data": {
      "text/plain": [
       "True"
      ]
     },
     "execution_count": 11,
     "metadata": {},
     "output_type": "execute_result"
    }
   ],
   "source": [
    "backspaceCompare(\"ab##\",\"c#d#\")"
   ]
  },
  {
   "cell_type": "code",
   "execution_count": 13,
   "id": "9e80ccfd",
   "metadata": {},
   "outputs": [
    {
     "data": {
      "text/plain": [
       "False"
      ]
     },
     "execution_count": 13,
     "metadata": {},
     "output_type": "execute_result"
    }
   ],
   "source": [
    "backspaceCompare(\"a#c\",\"d\")"
   ]
  },
  {
   "cell_type": "code",
   "execution_count": null,
   "id": "2e65c380",
   "metadata": {},
   "outputs": [],
   "source": []
  },
  {
   "cell_type": "markdown",
   "id": "8cbac6a4",
   "metadata": {},
   "source": [
    "852.Peak Index in a Mountain Array\n",
    "\n",
    "Let's call an array arr a mountain if the following properties hold:\n",
    "\n",
    "arr.length >= 3\n",
    "There exists some i with 0 < i < arr.length - 1 such that:\n",
    "arr[0] < arr[1] < ... arr[i-1] < arr[i]\n",
    "arr[i] > arr[i+1] > ... > arr[arr.length - 1]\n",
    "Given an integer array arr that is guaranteed to be a mountain, return any i such that arr[0] < arr[1] < ... arr[i - 1] < arr[i] > arr[i + 1] > ... > arr[arr.length - 1].\n",
    "\n",
    " \n",
    "\n",
    "Example 1:\n",
    "\n",
    "Input: arr = [0,1,0]\n",
    "Output: 1\n",
    "\n",
    "Example 2:\n",
    "\n",
    "Input: arr = [0,2,1,0]\n",
    "Output: 1\n",
    "\n",
    "Example 3:\n",
    "\n",
    "Input: arr = [0,10,5,2]\n",
    "Output: 1\n",
    " \n",
    "\n",
    "Constraints:\n",
    "\n",
    "3 <= arr.length <= 104\n",
    "0 <= arr[i] <= 106\n",
    "arr is guaranteed to be a mountain array."
   ]
  },
  {
   "cell_type": "code",
   "execution_count": 16,
   "id": "f7e1bee2",
   "metadata": {},
   "outputs": [],
   "source": [
    "def peakIndexInMountainArray(arr):\n",
    "    \"\"\"\n",
    "    :type arr: List[int]\n",
    "    :rtype: int\n",
    "    \"\"\"\n",
    "    left, right = 0, len(arr)-1\n",
    "    \n",
    "    while left < right:\n",
    "        mid = left + (right - left) //2\n",
    "        if arr[mid] > arr[mid+1]:\n",
    "            right = mid \n",
    "        else:\n",
    "            left = mid + 1\n",
    "    return left"
   ]
  },
  {
   "cell_type": "code",
   "execution_count": 17,
   "id": "648d994c",
   "metadata": {},
   "outputs": [
    {
     "data": {
      "text/plain": [
       "1"
      ]
     },
     "execution_count": 17,
     "metadata": {},
     "output_type": "execute_result"
    }
   ],
   "source": [
    "peakIndexInMountainArray([0,1,0])"
   ]
  },
  {
   "cell_type": "code",
   "execution_count": 18,
   "id": "9c515e4a",
   "metadata": {},
   "outputs": [
    {
     "data": {
      "text/plain": [
       "1"
      ]
     },
     "execution_count": 18,
     "metadata": {},
     "output_type": "execute_result"
    }
   ],
   "source": [
    "peakIndexInMountainArray([0,2, 1,0])"
   ]
  },
  {
   "cell_type": "code",
   "execution_count": 19,
   "id": "8ec36110",
   "metadata": {},
   "outputs": [
    {
     "data": {
      "text/plain": [
       "1"
      ]
     },
     "execution_count": 19,
     "metadata": {},
     "output_type": "execute_result"
    }
   ],
   "source": [
    "peakIndexInMountainArray([0,10,5,2])"
   ]
  },
  {
   "cell_type": "code",
   "execution_count": null,
   "id": "46cb4bed",
   "metadata": {},
   "outputs": [],
   "source": []
  },
  {
   "cell_type": "markdown",
   "id": "b31b0d15",
   "metadata": {},
   "source": [
    "125.Valid Palindrome\n",
    "\n",
    "A phrase is a palindrome if, after converting all uppercase letters into lowercase letters and removing all non-alphanumeric characters, it reads the same forward and backward. Alphanumeric characters include letters and numbers.\n",
    "\n",
    "Given a string s, return true if it is a palindrome, or false otherwise.\n",
    "\n",
    " \n",
    "\n",
    "Example 1:\n",
    "\n",
    "Input: s = \"A man, a plan, a canal: Panama\"\n",
    "Output: true\n",
    "Explanation: \"amanaplanacanalpanama\" is a palindrome.\n",
    "\n",
    "\n",
    "Example 2:\n",
    "\n",
    "Input: s = \"race a car\"\n",
    "Output: false\n",
    "Explanation: \"raceacar\" is not a palindrome.\n",
    "\n",
    "\n",
    "Example 3:\n",
    "\n",
    "Input: s = \" \"\n",
    "Output: true\n",
    "Explanation: s is an empty string \"\" after removing non-alphanumeric characters.\n",
    "Since an empty string reads the same forward and backward, it is a palindrome.\n",
    " \n",
    "\n",
    "Constraints:\n",
    "\n",
    "1 <= s.length <= 2 * 105\n",
    "s consists only of printable ASCII characters."
   ]
  },
  {
   "cell_type": "code",
   "execution_count": 22,
   "id": "34736fa7",
   "metadata": {},
   "outputs": [],
   "source": [
    "def isPalindrome(s):\n",
    "    \"\"\"\n",
    "    :type s: str\n",
    "    :rtype: bool\n",
    "    \"\"\"\n",
    "    current = 0\n",
    "    s = list(s)\n",
    "    for i in range(len(s)):\n",
    "        if s[i].isalnum():\n",
    "            s[current] = s[i].lower()\n",
    "            current += 1\n",
    "    s=s[:current]\n",
    "    \n",
    "    for i in range(len(s)):\n",
    "        if s[i] != s[len(s) - i - 1]:\n",
    "            return False\n",
    "    return True"
   ]
  },
  {
   "cell_type": "code",
   "execution_count": 23,
   "id": "26bdf255",
   "metadata": {},
   "outputs": [
    {
     "data": {
      "text/plain": [
       "True"
      ]
     },
     "execution_count": 23,
     "metadata": {},
     "output_type": "execute_result"
    }
   ],
   "source": [
    "isPalindrome('A man, a plan, a canal: Panama')"
   ]
  },
  {
   "cell_type": "code",
   "execution_count": 24,
   "id": "97459003",
   "metadata": {},
   "outputs": [
    {
     "data": {
      "text/plain": [
       "False"
      ]
     },
     "execution_count": 24,
     "metadata": {},
     "output_type": "execute_result"
    }
   ],
   "source": [
    "isPalindrome('race a car')"
   ]
  },
  {
   "cell_type": "code",
   "execution_count": null,
   "id": "027f66d6",
   "metadata": {},
   "outputs": [],
   "source": []
  }
 ],
 "metadata": {
  "kernelspec": {
   "display_name": "Python 3",
   "language": "python",
   "name": "python3"
  },
  "language_info": {
   "codemirror_mode": {
    "name": "ipython",
    "version": 3
   },
   "file_extension": ".py",
   "mimetype": "text/x-python",
   "name": "python",
   "nbconvert_exporter": "python",
   "pygments_lexer": "ipython3",
   "version": "3.8.8"
  }
 },
 "nbformat": 4,
 "nbformat_minor": 5
}
